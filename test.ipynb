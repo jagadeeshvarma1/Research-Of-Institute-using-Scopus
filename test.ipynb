{
 "cells": [
  {
   "cell_type": "code",
   "execution_count": 2,
   "metadata": {},
   "outputs": [],
   "source": [
    "#getting glimpse of the dataset\n",
    "import pandas as pd\n",
    "df=pd.read_csv(\"/home/avinsah/Desktop/final year project/cleaned datasets/Indian Institute of Technology Bombay.csv\")"
   ]
  },
  {
   "cell_type": "code",
   "execution_count": 2,
   "metadata": {},
   "outputs": [
    {
     "data": {
      "text/plain": [
       "22"
      ]
     },
     "execution_count": 2,
     "metadata": {},
     "output_type": "execute_result"
    }
   ],
   "source": [
    "#finding how many files are present in the cleaned dataset folder\n",
    "import os\n",
    "len(os.listdir(\"/home/avinsah/Desktop/final year project/cleaned datasets\"))"
   ]
  },
  {
   "cell_type": "code",
   "execution_count": 1,
   "metadata": {},
   "outputs": [
    {
     "data": {
      "text/plain": [
       "['Indian Institute of Technology Indore.csv',\n",
       " 'Indian Institute of Technology Bombay.csv',\n",
       " 'Indian Institute of Technology Kanpur.csv',\n",
       " 'Indian Institute of Technology Patna.csv',\n",
       " 'Indian Institute of Technology Delhi.csv',\n",
       " 'Indian Institute of Technology Jammu.csv',\n",
       " 'Indian Institute of Technology Mandi.csv',\n",
       " 'Indian Institute of Technology Goa.csv',\n",
       " 'Indian Institute of Technology Tirupati.csv',\n",
       " 'Indian Institute of Technology Dharwad.csv',\n",
       " 'Indian Institute of Technology (Indian School of Mines), Dhanbad.csv',\n",
       " 'Indian Institute of Technology Bhilai.csv',\n",
       " 'Indian Institute of Technology Banaras Hindu University.csv',\n",
       " 'Indian Institute of Technology Jodhpur.csv',\n",
       " 'Indian Institute of Technology Guwahati.csv',\n",
       " 'Indian Institute of Technology Bhubaneswar.csv',\n",
       " 'Indian Institute of Technology Ropar.csv',\n",
       " 'Indian Institute of Technology Gandhinagar.csv',\n",
       " 'Indian Institute of Technology Roorkee.csv',\n",
       " 'Indian Institute of Technology Madras.csv',\n",
       " 'Indian Institute of Technology Hyderabad.csv',\n",
       " 'Indian Institute of Technology Palakkad.csv']"
      ]
     },
     "execution_count": 1,
     "metadata": {},
     "output_type": "execute_result"
    }
   ],
   "source": [
    "os.listdir(\"/home/avinsah/Desktop/final year project/cleaned datasets\")"
   ]
  },
  {
   "cell_type": "code",
   "execution_count": 33,
   "metadata": {},
   "outputs": [],
   "source": [
    "#creating a universities csv file\n",
    "k=[]\n",
    "for i in os.listdir(\"/home/avinsah/Desktop/final year project/cleaned datasets\"):\n",
    "    k.append(i[:-4])\n",
    "pd.DataFrame({'university':k}).to_csv(\"universities.csv\",index=False)"
   ]
  },
  {
   "cell_type": "code",
   "execution_count": 22,
   "metadata": {},
   "outputs": [],
   "source": [
    "df=pd.read_csv(\"/home/avinsah/Desktop/final year project/cleaned datasets/Indian Institute of Technology Jodhpur.csv\")"
   ]
  },
  {
   "cell_type": "code",
   "execution_count": 23,
   "metadata": {},
   "outputs": [
    {
     "name": "stdout",
     "output_type": "stream",
     "text": [
      "<class 'pandas.core.frame.DataFrame'>\n",
      "RangeIndex: 802 entries, 0 to 801\n",
      "Data columns (total 6 columns):\n",
      " #   Column             Non-Null Count  Dtype  \n",
      "---  ------             --------------  -----  \n",
      " 0   Author             802 non-null    object \n",
      " 1   Documents          801 non-null    float64\n",
      " 2   h-index            801 non-null    float64\n",
      " 3   Affiliation        801 non-null    object \n",
      " 4   City               801 non-null    object \n",
      " 5   Country/Territory  801 non-null    object \n",
      "dtypes: float64(2), object(4)\n",
      "memory usage: 37.7+ KB\n"
     ]
    }
   ],
   "source": [
    "df.info()"
   ]
  },
  {
   "cell_type": "code",
   "execution_count": 19,
   "metadata": {},
   "outputs": [],
   "source": [
    "df['h-index'].fillna(0,inplace=True)"
   ]
  },
  {
   "cell_type": "code",
   "execution_count": 21,
   "metadata": {},
   "outputs": [
    {
     "data": {
      "text/plain": [
       "array(['1.0', '0.0', '2.0', '26.0', '38.0', '47.0', '46.0', '34.0',\n",
       "       '18.0', '25.0', '33.0', '23.0', '13.0', '16.0', '21.0', '14.0',\n",
       "       '9.0', '15.0', '11.0', '19.0', '20.0', '27.0', '12.0', '17.0',\n",
       "       '10.0', '8.0', '7.0', '6.0', '5.0', '3.0', '4.0', 'h-index', 0],\n",
       "      dtype=object)"
      ]
     },
     "execution_count": 21,
     "metadata": {},
     "output_type": "execute_result"
    }
   ],
   "source": [
    "df['h-index'].unique()"
   ]
  },
  {
   "cell_type": "code",
   "execution_count": 2,
   "metadata": {},
   "outputs": [
    {
     "name": "stdout",
     "output_type": "stream",
     "text": [
      "Collecting pybliometrics\n",
      "  Downloading pybliometrics-3.4.0.tar.gz (920 kB)\n",
      "\u001b[K     |████████████████████████████████| 920 kB 2.2 MB/s eta 0:00:01\n",
      "\u001b[?25hCollecting pbr\n",
      "  Using cached pbr-5.10.0-py2.py3-none-any.whl (112 kB)\n",
      "Requirement already satisfied: requests in /home/avinsah/anaconda3/envs/tcr_innovation/lib/python3.9/site-packages (from pybliometrics) (2.28.1)\n",
      "Collecting simplejson\n",
      "  Downloading simplejson-3.17.6-cp39-cp39-manylinux_2_5_x86_64.manylinux1_x86_64.manylinux_2_12_x86_64.manylinux2010_x86_64.whl (136 kB)\n",
      "\u001b[K     |████████████████████████████████| 136 kB 2.3 MB/s eta 0:00:01\n",
      "\u001b[?25hCollecting tqdm\n",
      "  Downloading tqdm-4.64.1-py2.py3-none-any.whl (78 kB)\n",
      "\u001b[K     |████████████████████████████████| 78 kB 3.7 MB/s eta 0:00:01\n",
      "\u001b[?25hRequirement already satisfied: urllib3<1.27,>=1.21.1 in /home/avinsah/anaconda3/envs/tcr_innovation/lib/python3.9/site-packages (from requests->pybliometrics) (1.26.11)\n",
      "Requirement already satisfied: charset-normalizer<3,>=2 in /home/avinsah/anaconda3/envs/tcr_innovation/lib/python3.9/site-packages (from requests->pybliometrics) (2.0.12)\n",
      "Requirement already satisfied: certifi>=2017.4.17 in /home/avinsah/anaconda3/envs/tcr_innovation/lib/python3.9/site-packages (from requests->pybliometrics) (2022.6.15)\n",
      "Requirement already satisfied: idna<4,>=2.5 in /home/avinsah/anaconda3/envs/tcr_innovation/lib/python3.9/site-packages (from requests->pybliometrics) (3.3)\n",
      "Building wheels for collected packages: pybliometrics\n",
      "  Building wheel for pybliometrics (setup.py) ... \u001b[?25ldone\n",
      "\u001b[?25h  Created wheel for pybliometrics: filename=pybliometrics-3.4.0-py2.py3-none-any.whl size=73923 sha256=746e82102ff12d8ea4abdfc8b0861aa202bc0a0af5cf51556fe6d0e47c47d5a7\n",
      "  Stored in directory: /home/avinsah/.cache/pip/wheels/6a/32/d2/79e913d29c27162765fa8264987d89c59cbe94318b8539d32f\n",
      "Successfully built pybliometrics\n",
      "Installing collected packages: tqdm, simplejson, pbr, pybliometrics\n",
      "Successfully installed pbr-5.10.0 pybliometrics-3.4.0 simplejson-3.17.6 tqdm-4.64.1\n"
     ]
    }
   ],
   "source": [
    "!pip install pybliometrics"
   ]
  },
  {
   "cell_type": "code",
   "execution_count": 1,
   "metadata": {},
   "outputs": [],
   "source": [
    "from pybliometrics.scopus import AbstractRetrieval"
   ]
  },
  {
   "cell_type": "code",
   "execution_count": 6,
   "metadata": {},
   "outputs": [
    {
     "ename": "ValueError",
     "evalue": "ID type detection failed for \"7f59af901d2d86f78a1fd60c1bf9426a\".",
     "output_type": "error",
     "traceback": [
      "\u001b[0;31m---------------------------------------------------------------------------\u001b[0m",
      "\u001b[0;31mUnboundLocalError\u001b[0m                         Traceback (most recent call last)",
      "File \u001b[0;32m~/anaconda3/envs/tcr_innovation/lib/python3.9/site-packages/pybliometrics/scopus/utils/get_content.py:149\u001b[0m, in \u001b[0;36mdetect_id_type\u001b[0;34m(sid)\u001b[0m\n\u001b[1;32m    148\u001b[0m \u001b[39mtry\u001b[39;00m:\n\u001b[0;32m--> 149\u001b[0m     \u001b[39mreturn\u001b[39;00m id_type\n\u001b[1;32m    150\u001b[0m \u001b[39mexcept\u001b[39;00m \u001b[39mUnboundLocalError\u001b[39;00m:\n",
      "\u001b[0;31mUnboundLocalError\u001b[0m: local variable 'id_type' referenced before assignment",
      "\nDuring handling of the above exception, another exception occurred:\n",
      "\u001b[0;31mValueError\u001b[0m                                Traceback (most recent call last)",
      "\u001b[1;32m/home/avinsah/Desktop/final year project/test.ipynb Cell 11\u001b[0m in \u001b[0;36m<cell line: 1>\u001b[0;34m()\u001b[0m\n\u001b[0;32m----> <a href='vscode-notebook-cell:/home/avinsah/Desktop/final%20year%20project/test.ipynb#X13sZmlsZQ%3D%3D?line=0'>1</a>\u001b[0m ab \u001b[39m=\u001b[39m AbstractRetrieval(\u001b[39m\"\u001b[39;49m\u001b[39m7f59af901d2d86f78a1fd60c1bf9426a\u001b[39;49m\u001b[39m\"\u001b[39;49m)\n",
      "File \u001b[0;32m~/anaconda3/envs/tcr_innovation/lib/python3.9/site-packages/pybliometrics/scopus/abstract_retrieval.py:695\u001b[0m, in \u001b[0;36mAbstractRetrieval.__init__\u001b[0;34m(self, identifier, refresh, view, id_type, **kwds)\u001b[0m\n\u001b[1;32m    693\u001b[0m check_parameter_value(view, (\u001b[39m'\u001b[39m\u001b[39mMETA\u001b[39m\u001b[39m'\u001b[39m, \u001b[39m'\u001b[39m\u001b[39mMETA_ABS\u001b[39m\u001b[39m'\u001b[39m, \u001b[39m'\u001b[39m\u001b[39mREF\u001b[39m\u001b[39m'\u001b[39m, \u001b[39m'\u001b[39m\u001b[39mFULL\u001b[39m\u001b[39m'\u001b[39m), \u001b[39m\"\u001b[39m\u001b[39mview\u001b[39m\u001b[39m\"\u001b[39m)\n\u001b[1;32m    694\u001b[0m \u001b[39mif\u001b[39;00m id_type \u001b[39mis\u001b[39;00m \u001b[39mNone\u001b[39;00m:\n\u001b[0;32m--> 695\u001b[0m     id_type \u001b[39m=\u001b[39m detect_id_type(identifier)\n\u001b[1;32m    696\u001b[0m \u001b[39melse\u001b[39;00m:\n\u001b[1;32m    697\u001b[0m     allowed_id_types \u001b[39m=\u001b[39m (\u001b[39m'\u001b[39m\u001b[39meid\u001b[39m\u001b[39m'\u001b[39m, \u001b[39m'\u001b[39m\u001b[39mpii\u001b[39m\u001b[39m'\u001b[39m, \u001b[39m'\u001b[39m\u001b[39mscopus_id\u001b[39m\u001b[39m'\u001b[39m, \u001b[39m'\u001b[39m\u001b[39mpubmed_id\u001b[39m\u001b[39m'\u001b[39m, \u001b[39m'\u001b[39m\u001b[39mdoi\u001b[39m\u001b[39m'\u001b[39m)\n",
      "File \u001b[0;32m~/anaconda3/envs/tcr_innovation/lib/python3.9/site-packages/pybliometrics/scopus/utils/get_content.py:151\u001b[0m, in \u001b[0;36mdetect_id_type\u001b[0;34m(sid)\u001b[0m\n\u001b[1;32m    149\u001b[0m     \u001b[39mreturn\u001b[39;00m id_type\n\u001b[1;32m    150\u001b[0m \u001b[39mexcept\u001b[39;00m \u001b[39mUnboundLocalError\u001b[39;00m:\n\u001b[0;32m--> 151\u001b[0m     \u001b[39mraise\u001b[39;00m \u001b[39mValueError\u001b[39;00m(\u001b[39mf\u001b[39m\u001b[39m'\u001b[39m\u001b[39mID type detection failed for \u001b[39m\u001b[39m\"\u001b[39m\u001b[39m{\u001b[39;00msid\u001b[39m}\u001b[39;00m\u001b[39m\"\u001b[39m\u001b[39m.\u001b[39m\u001b[39m'\u001b[39m)\n",
      "\u001b[0;31mValueError\u001b[0m: ID type detection failed for \"7f59af901d2d86f78a1fd60c1bf9426a\"."
     ]
    }
   ],
   "source": [
    "ab = AbstractRetrieval(\"7f59af901d2d86f78a1fd60c1bf9426a\")"
   ]
  }
 ],
 "metadata": {
  "kernelspec": {
   "display_name": "Python 3.9.12 ('tcr_innovation')",
   "language": "python",
   "name": "python3"
  },
  "language_info": {
   "codemirror_mode": {
    "name": "ipython",
    "version": 3
   },
   "file_extension": ".py",
   "mimetype": "text/x-python",
   "name": "python",
   "nbconvert_exporter": "python",
   "pygments_lexer": "ipython3",
   "version": "3.9.12"
  },
  "orig_nbformat": 4,
  "vscode": {
   "interpreter": {
    "hash": "01f5dd49d722c667b1e12661d2fa2708487a82436684dd36f7a133cb3300edd6"
   }
  }
 },
 "nbformat": 4,
 "nbformat_minor": 2
}
